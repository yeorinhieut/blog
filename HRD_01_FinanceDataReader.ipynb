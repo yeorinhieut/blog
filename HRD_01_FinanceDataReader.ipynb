{
  "cells": [
    {
      "cell_type": "markdown",
      "metadata": {
        "id": "view-in-github",
        "colab_type": "text"
      },
      "source": [
        "<a href=\"https://colab.research.google.com/github/yeorinhieut/blog/blob/master/HRD_01_FinanceDataReader.ipynb\" target=\"_parent\"><img src=\"https://colab.research.google.com/assets/colab-badge.svg\" alt=\"Open In Colab\"/></a>"
      ]
    },
    {
      "cell_type": "markdown",
      "source": [
        "# 양정고등학교 HRD 메이커 퀀트 실습 1\n",
        "## Finance Data Reader 를 사용한 금융 데이터 수집\n",
        "[Finance Data Reader 공식 문서](https://financedata.github.io/posts/finance-data-reader-users-guide.html)\n"
      ],
      "metadata": {
        "id": "b4w1exnff4AE"
      },
      "id": "b4w1exnff4AE"
    },
    {
      "cell_type": "markdown",
      "source": [
        "### 1. 초기 세팅\n",
        "\n",
        "\n"
      ],
      "metadata": {
        "id": "AnoOLueTg-nD"
      },
      "id": "AnoOLueTg-nD"
    },
    {
      "cell_type": "code",
      "source": [
        "! pip install finance-datareader -q # 필요한 모듈 설치"
      ],
      "metadata": {
        "id": "HmsP5yvhf2_w"
      },
      "id": "HmsP5yvhf2_w",
      "execution_count": null,
      "outputs": []
    },
    {
      "cell_type": "code",
      "execution_count": null,
      "id": "951657f0",
      "metadata": {
        "id": "951657f0"
      },
      "outputs": [],
      "source": [
        "import FinanceDataReader as fdr # 필요한 모듈 불러오기"
      ]
    },
    {
      "cell_type": "markdown",
      "id": "51d0975d",
      "metadata": {
        "id": "51d0975d"
      },
      "source": [
        "### 2. 증시 데이터 수집"
      ]
    },
    {
      "cell_type": "markdown",
      "id": "8d8ddac2",
      "metadata": {
        "id": "8d8ddac2"
      },
      "source": [
        "#### 주식 데이터"
      ]
    },
    {
      "cell_type": "code",
      "execution_count": null,
      "id": "3a46b025",
      "metadata": {
        "id": "3a46b025"
      },
      "outputs": [],
      "source": [
        "KP_stock_list = fdr.StockListing(\"KOSPI\") # 코스피 종목 목록 불러오기\n",
        "display(KP_stock_list) # 불러온 목록 보기"
      ]
    },
    {
      "cell_type": "code",
      "execution_count": null,
      "id": "4b8f5853",
      "metadata": {
        "id": "4b8f5853"
      },
      "outputs": [],
      "source": [
        "sp_data = fdr.DataReader(\"005380\", \"2024-01-01\", \"2024-04-01\") # 2024년 1월 1일부터, 4월 1일까지의 현대자동차(005380) 주식 데이터 불러오기\n",
        "display(sp_data)"
      ]
    },
    {
      "cell_type": "code",
      "execution_count": null,
      "id": "720dd5dc",
      "metadata": {
        "id": "720dd5dc"
      },
      "outputs": [],
      "source": [
        "SP500_stock_list = fdr.StockListing(\"SP500\") # S&P 500 종목 불러오기 (https://ko.wikipedia.org/wiki/S%26P_500)\n",
        "display(SP500_stock_list)"
      ]
    },
    {
      "cell_type": "code",
      "execution_count": null,
      "id": "ba50035c",
      "metadata": {
        "id": "ba50035c"
      },
      "outputs": [],
      "source": [
        "sp_data = fdr.DataReader(\"MMM\", \"2024-01-01\", \"2024-04-01\") # 2024년 1월 1일부터, 4월 1일까지의 3M(MMM) 주식 데이터 불러오기\n",
        "display(sp_data)"
      ]
    },
    {
      "cell_type": "markdown",
      "id": "1c90d92c",
      "metadata": {
        "id": "1c90d92c"
      },
      "source": [
        "#### 주요 지수 데이터"
      ]
    },
    {
      "cell_type": "code",
      "execution_count": null,
      "id": "499d585d",
      "metadata": {
        "id": "499d585d"
      },
      "outputs": [],
      "source": [
        "KP_idx_data = fdr.DataReader(\"KS11\", \"2020-01-01\", \"2024-01-01\") # 해당 기간의 코스피 idx 지수 불러오기\n",
        "display(KP_idx_data)"
      ]
    },
    {
      "cell_type": "code",
      "execution_count": null,
      "id": "264af85d",
      "metadata": {
        "id": "264af85d"
      },
      "outputs": [],
      "source": [
        "DJI_idx_data = fdr.DataReader(\"DJI\", \"2020-01-01\", \"2024-01-01\") # 해당 기간의 다우지수 idx 불러오기\n",
        "display(DJI_idx_data)"
      ]
    },
    {
      "cell_type": "markdown",
      "id": "4c53ee5e",
      "metadata": {
        "id": "4c53ee5e"
      },
      "source": [
        "### 3. 기타 금융 데이터 수집"
      ]
    },
    {
      "cell_type": "code",
      "execution_count": null,
      "id": "e23281c1",
      "metadata": {
        "id": "e23281c1"
      },
      "outputs": [],
      "source": [
        "display(fdr.DataReader(\"CL\", \"2020-01-01\", \"2024-01-01\")) # WTI유 선물"
      ]
    },
    {
      "cell_type": "code",
      "execution_count": null,
      "id": "f2ace52a",
      "metadata": {
        "id": "f2ace52a"
      },
      "outputs": [],
      "source": [
        "display(fdr.DataReader(\"USD/KRW\", \"2020-01-01\", \"2024-01-01\")) #달러/원 환율"
      ]
    }
  ],
  "metadata": {
    "kernelspec": {
      "display_name": "Python 3 (ipykernel)",
      "language": "python",
      "name": "python3"
    },
    "language_info": {
      "codemirror_mode": {
        "name": "ipython",
        "version": 3
      },
      "file_extension": ".py",
      "mimetype": "text/x-python",
      "name": "python",
      "nbconvert_exporter": "python",
      "pygments_lexer": "ipython3",
      "version": "3.11.5"
    },
    "colab": {
      "provenance": [],
      "include_colab_link": true
    }
  },
  "nbformat": 4,
  "nbformat_minor": 5
}